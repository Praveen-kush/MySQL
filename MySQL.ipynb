{
 "cells": [
  {
   "cell_type": "markdown",
   "id": "e4fa834a",
   "metadata": {},
   "source": [
    "# Q1. What is a database? Differentiate between SQL and NoSQL databases."
   ]
  },
  {
   "cell_type": "markdown",
   "id": "4a1e3e6d",
   "metadata": {},
   "source": [
    "# Ans:"
   ]
  },
  {
   "cell_type": "markdown",
   "id": "eb29ebdd",
   "metadata": {},
   "source": [
    "A Database is defined as a collection of logically related data stored together that is desined to meet the information needs of an orgnization. It can contain one data file or large number of data files depending on orgnization needs. It is shared collection of logically related data designed to meet the information needs of an orgnization.\n",
    "1. A database is a shared collection --can be used simultaneously by many departments and users.\n",
    "2. It is logically related--comprise the important objects and the relationships between these objects.\n",
    "3. It is a description of the data-- the system catalog provides description of data to enable data independence."
   ]
  },
  {
   "cell_type": "markdown",
   "id": "92223203",
   "metadata": {},
   "source": [
    "# Differentiate between SQL and NoSQL databases"
   ]
  },
  {
   "cell_type": "markdown",
   "id": "5979a01c",
   "metadata": {},
   "source": [
    "SQL Databases:\n",
    "Data Structure:\n",
    "\n",
    "SQL databases are relational, meaning they use a structure called tables to organize data, and the relationships between these tables are defined by using keys.\n",
    "Data is usually stored in a predefined schema, and each row in a table represents a record.\n",
    "\n",
    "Schema:\n",
    "\n",
    "SQL databases are schema-based, and any change in the structure requires altering the schema.\n",
    "The schema defines the structure of the data and the relationships between different tables.\n",
    "\n",
    "Scalability:\n",
    "\n",
    "SQL databases are typically scaled vertically by adding more power (CPU, RAM, SSD) to a single server.\n",
    "Vertical scaling has limitations, and there is a practical limit to the amount of resources you can add to a single machine.\n",
    "\n",
    "Consistency:\n",
    "\n",
    "SQL databases follow the ACID properties (Atomicity, Consistency, Isolation, Durability), ensuring a high level of data integrity and consistency.\n",
    "ACID compliance is critical for applications where data accuracy is of utmost importance, such as financial systems.\n",
    "\n",
    "Examples:\n",
    "\n",
    "MySQL, PostgreSQL, Oracle, SQL Server."
   ]
  },
  {
   "cell_type": "markdown",
   "id": "47dd8fb6",
   "metadata": {},
   "source": []
  },
  {
   "cell_type": "markdown",
   "id": "f59039cf",
   "metadata": {},
   "source": [
    "NoSQL Databases:\n",
    "Data Structure:\n",
    "\n",
    "NoSQL databases are non-relational and can store data in various formats like document-oriented, key-value pairs, wide-column stores, or graph databases.\n",
    "Each record can have different fields, and there is no need for a predefined schema.\n",
    "\n",
    "Schema:\n",
    "\n",
    "NoSQL databases are schema-less, allowing developers to insert data without first defining its structure.\n",
    "This flexibility is beneficial when dealing with evolving or unpredictable data.\n",
    "\n",
    "Scalability:\n",
    "\n",
    "NoSQL databases are typically scaled horizontally by adding more servers to the database.\n",
    "Horizontal scaling allows for distributing the load across multiple machines, making it easier to handle large amounts of data and traffic.\n",
    "\n",
    "Consistency:\n",
    "\n",
    "NoSQL databases often sacrifice strict consistency for performance and scalability.\n",
    "They may follow the CAP theorem (Consistency, Availability, Partition Tolerance), where a trade-off is made between these three factors.\n",
    "\n",
    "Examples:\n",
    "\n",
    "MongoDB (document-oriented), Cassandra (wide-column store), Redis (key-value store), Neo4j (graph database)."
   ]
  },
  {
   "cell_type": "markdown",
   "id": "2a00b259",
   "metadata": {},
   "source": [
    "# Q2. What is DDL? Explain why CREATE, DROP, ALTER, and TRUNCATE are used with an example."
   ]
  },
  {
   "cell_type": "markdown",
   "id": "e360d483",
   "metadata": {},
   "source": [
    "# Ans:"
   ]
  },
  {
   "cell_type": "markdown",
   "id": "6fcc3d98",
   "metadata": {},
   "source": [
    "Data Definition Language(DDL):A database system provides a data definition language to specify database schema. A database schemema is specified by a set of definition expressed by a special language called a data-definition language.\n",
    "    --Allows the DBA or user to describe and name entites, attributes, and reltionships required for the application.\n",
    "    --It also includes and associated integrity and security constraints."
   ]
  },
  {
   "cell_type": "markdown",
   "id": "acb18510",
   "metadata": {},
   "source": [
    "1. CREATE:\n",
    "The CREATE statement is used to create a new table in a database."
   ]
  },
  {
   "cell_type": "raw",
   "id": "2769b221",
   "metadata": {},
   "source": [
    "CREATE TABLE employees (\n",
    "    employee_id INT PRIMARY KEY,\n",
    "    first_name VARCHAR(50),\n",
    "    last_name VARCHAR(50),\n",
    "    job_title VARCHAR(100)\n",
    ");\n"
   ]
  },
  {
   "cell_type": "markdown",
   "id": "3ef3b075",
   "metadata": {},
   "source": [
    "2. DROP:\n",
    "The DROP statement is used to delete a database object (table, view, etc.)."
   ]
  },
  {
   "cell_type": "raw",
   "id": "4c3251f2",
   "metadata": {},
   "source": [
    "DROP TABLE employees;\n"
   ]
  },
  {
   "cell_type": "markdown",
   "id": "403fdb69",
   "metadata": {},
   "source": [
    "3. ALTER:\n",
    "The ALTER statement is used to modify the structure of an existing database object."
   ]
  },
  {
   "cell_type": "raw",
   "id": "86a3d60d",
   "metadata": {},
   "source": [
    "ALTER TABLE employees\n",
    "ADD COLUMN salary DECIMAL(10, 2);\n"
   ]
  },
  {
   "cell_type": "markdown",
   "id": "406bf7a7",
   "metadata": {},
   "source": [
    "4. TRUNCATE:\n",
    "The TRUNCATE statement is used to remove all rows from a table while retaining the table structure for future use."
   ]
  },
  {
   "cell_type": "raw",
   "id": "d523560e",
   "metadata": {},
   "source": [
    "TRUNCATE TABLE employees;\n"
   ]
  },
  {
   "cell_type": "markdown",
   "id": "03a124e9",
   "metadata": {},
   "source": [
    "Potential Output:\n",
    "After the CREATE statement, you would see a message indicating that the table has been created.\n",
    "After the DROP statement, you would see a message indicating that the table has been dropped.\n",
    "After the ALTER statement, you might see a message indicating that the table has been altered.\n",
    "After the TRUNCATE statement, you might not get a message, but if you query the table, it would return an empty result set."
   ]
  },
  {
   "cell_type": "markdown",
   "id": "36329920",
   "metadata": {},
   "source": [
    "# Q3. What is DML? Explain INSERT, UPDATE, and DELETE with an example."
   ]
  },
  {
   "cell_type": "markdown",
   "id": "9303cffe",
   "metadata": {},
   "source": [
    "# Ans:"
   ]
  },
  {
   "cell_type": "markdown",
   "id": "2b79a09d",
   "metadata": {},
   "source": [
    "Data Manipulation Language(DML): Provides basic data manipulation operations on data held in the database."
   ]
  },
  {
   "cell_type": "markdown",
   "id": "eb1eac30",
   "metadata": {},
   "source": [
    "Data manipulation is \n",
    "  * Retrievel of information\n",
    "  * Insrtion of new information\n",
    "  * Deletion of information\n",
    "  * Modification of information\n",
    "The language used to manipulate data in the database is called Data Manipulation Language(DML)."
   ]
  },
  {
   "cell_type": "markdown",
   "id": "bd6a20af",
   "metadata": {},
   "source": [
    "The INSERT, UPDATE, and DELETE statements are used to manipulate data in a relational database."
   ]
  },
  {
   "cell_type": "markdown",
   "id": "bed05de6",
   "metadata": {},
   "source": [
    "1. INSERT:\n",
    "The INSERT statement is used to add new records (rows) into a table."
   ]
  },
  {
   "cell_type": "raw",
   "id": "a828246e",
   "metadata": {},
   "source": [
    "INSERT INTO employees (employee_id, first_name, last_name, job_title, salary) \n",
    "VALUES (1, 'John', 'Doe', 'Software Engineer', 75000.00);\n"
   ]
  },
  {
   "cell_type": "markdown",
   "id": "f18ab047",
   "metadata": {},
   "source": [
    "2. UPDATE:\n",
    "The UPDATE statement is used to modify existing records in a table based on a specified condition."
   ]
  },
  {
   "cell_type": "raw",
   "id": "ee1eecce",
   "metadata": {},
   "source": [
    "UPDATE employees\n",
    "SET salary = 80000.00\n",
    "WHERE employee_id = 1;"
   ]
  },
  {
   "cell_type": "markdown",
   "id": "1d8c2e43",
   "metadata": {},
   "source": [
    "3. DELETE:\n",
    "The DELETE statement is used to remove records from a table based on a specified condition."
   ]
  },
  {
   "cell_type": "raw",
   "id": "0c5bc566",
   "metadata": {},
   "source": [
    "DELETE FROM employees\n",
    "WHERE employee_id = 1;"
   ]
  },
  {
   "cell_type": "markdown",
   "id": "806f396b",
   "metadata": {},
   "source": [
    "Always be cautious when using DELETE as it permanently removes data from the table.\n",
    "The UPDATE and DELETE statements often include a WHERE clause to specify which records should be affected. Without a WHERE clause, all records in the table may be affected."
   ]
  },
  {
   "cell_type": "markdown",
   "id": "e506c4af",
   "metadata": {},
   "source": [
    "# Q4. What is DQL? Explain SELECT with an example.\n",
    "\n"
   ]
  },
  {
   "cell_type": "markdown",
   "id": "d9673a1a",
   "metadata": {},
   "source": [
    "# Ans:"
   ]
  },
  {
   "cell_type": "markdown",
   "id": "160cea3c",
   "metadata": {},
   "source": [
    "Data Query Language, is a subset of SQL (Structured Query Language) that specifically deals with the retrieval of data from a database. The primary command used for querying data is SELECT. DQL is focused on extracting information from the database rather than modifying it."
   ]
  },
  {
   "cell_type": "markdown",
   "id": "d7473f55",
   "metadata": {},
   "source": [
    "SELECT Statement:\n",
    "The SELECT statement is used to retrieve data from one or more tables in a database.\n",
    "It allows you to specify the columns you want to retrieve, filter the rows based on certain conditions, and order the results."
   ]
  },
  {
   "cell_type": "raw",
   "id": "b77c8629",
   "metadata": {},
   "source": [
    "SELECT first_name, last_name, salary\n",
    "FROM employees;\n"
   ]
  },
  {
   "cell_type": "code",
   "execution_count": null,
   "id": "657f0959",
   "metadata": {},
   "outputs": [],
   "source": [
    "SELECT first_name, last_name, salary specifies the columns you want to retrieve.\n",
    "\n",
    "FROM employees specifies the table from which you want to retrieve the data."
   ]
  },
  {
   "cell_type": "raw",
   "id": "c37ffeca",
   "metadata": {},
   "source": [
    "+------------+-----------+--------+\n",
    "| first_name | last_name | salary |\n",
    "+------------+-----------+--------+\n",
    "| John       | Doe       | 75000  |\n",
    "| Jane       | Smith     | 80000  |\n",
    "| Mark       | Johnson   | 70000  |\n",
    "| ...        | ...       | ...    |\n",
    "+------------+-----------+--------+\n"
   ]
  },
  {
   "cell_type": "markdown",
   "id": "55b38f8d",
   "metadata": {},
   "source": [
    "# Q5. Explain Primary Key and Foreign Key."
   ]
  },
  {
   "cell_type": "markdown",
   "id": "7fc279c7",
   "metadata": {},
   "source": [
    "# Ans:"
   ]
  },
  {
   "cell_type": "markdown",
   "id": "8960dd5b",
   "metadata": {},
   "source": [
    "Primary Key:"
   ]
  },
  {
   "cell_type": "markdown",
   "id": "a5e035aa",
   "metadata": {},
   "source": [
    "A primary key is used to uniquely identify each row in a table. It can be either be part of the actual record itself , or it can be an artificial field(one that has nothing to do with the actual record). A primary key can cansist of one or more fields on a table .\n",
    "When multiple fields are used as a primary key , they are called a composite key. A primary key when creating a table: Using MySQL:"
   ]
  },
  {
   "cell_type": "raw",
   "id": "138d9dfb",
   "metadata": {},
   "source": [
    "CREATE TABLE Customer\n",
    "(SID integer;\n",
    "Last_Name varchar(30),\n",
    "First_Name varchar(30),\n",
    "PRIMARY KEY (SID));\n",
    "SID is unique key field."
   ]
  },
  {
   "cell_type": "markdown",
   "id": "f7520733",
   "metadata": {},
   "source": [
    "Foreign Key:"
   ]
  },
  {
   "cell_type": "markdown",
   "id": "f55f2720",
   "metadata": {},
   "source": [
    "The SQL INSERT INTO syntax has 2 main forms and the result of either of them is adding a new row into the database table.\n",
    "The first syntax from of the INSERT INTO SQL clause doesn't specify the columns names where the data will be inserted, but just their values:"
   ]
  },
  {
   "cell_type": "raw",
   "id": "d5ef1f9d",
   "metadata": {},
   "source": [
    "INSERT INTO Table1\n",
    "VALUES(value1, value2, value3...)"
   ]
  },
  {
   "cell_type": "markdown",
   "id": "5af805b7",
   "metadata": {},
   "source": [
    "The second form of the SQL INSERT INTO command specifies both the columns and the values to be inserted in them:"
   ]
  },
  {
   "cell_type": "raw",
   "id": "605679ca",
   "metadata": {},
   "source": [
    "INSERT INTO Table1\n",
    "(Column1, Column2, Column3...)VALUES(value1, value2, value3...)"
   ]
  },
  {
   "cell_type": "markdown",
   "id": "24599e06",
   "metadata": {},
   "source": [
    "As you might already have guessed, the number of the columns in the second INSERT INTO syntax form must match the number of values into the SQL statement;\n",
    "otherwise you will get an error."
   ]
  },
  {
   "cell_type": "markdown",
   "id": "88abbae8",
   "metadata": {},
   "source": [
    "# Q6. Write a python code to connect MySQL to python. Explain the cursor() and execute() method."
   ]
  },
  {
   "cell_type": "markdown",
   "id": "b2b46f5b",
   "metadata": {},
   "source": [
    "# Ans:"
   ]
  },
  {
   "cell_type": "code",
   "execution_count": 5,
   "id": "145cb01a",
   "metadata": {},
   "outputs": [
    {
     "name": "stdout",
     "output_type": "stream",
     "text": [
      "Defaulting to user installation because normal site-packages is not writeable\n",
      "Collecting mysql-connector-python\n",
      "  Downloading mysql_connector_python-8.2.0-cp39-cp39-win_amd64.whl (14.2 MB)\n",
      "     --------------------------------------- 14.2/14.2 MB 11.5 MB/s eta 0:00:00\n",
      "Collecting protobuf<=4.21.12,>=4.21.1\n",
      "  Downloading protobuf-4.21.12-cp39-cp39-win_amd64.whl (527 kB)\n",
      "     ------------------------------------- 527.0/527.0 kB 34.5 MB/s eta 0:00:00\n",
      "Installing collected packages: protobuf, mysql-connector-python\n",
      "Successfully installed mysql-connector-python-8.2.0 protobuf-4.21.12\n",
      "Note: you may need to restart the kernel to use updated packages.\n"
     ]
    }
   ],
   "source": [
    "pip install mysql-connector-python\n"
   ]
  },
  {
   "cell_type": "raw",
   "id": "75dc6035",
   "metadata": {},
   "source": [
    "import mysql.connector\n",
    "db_config = {host: 'your_host',user: 'your_user',password: 'your_password',database: 'mydatabase'}\n",
    "connection = mysql.connector.connect(**db_config)\n",
    "cursor = connection.cursor()\n",
    "\n",
    "try:\n",
    "    query = \"SELECT id, name, age FROM mytable\"\n",
    "    cursor.execute(query)\n",
    "    result = cursor.fetchall()\n",
    "    for row in result:\n",
    "        print(f\"ID: {row[0]}, Name: {row[1]}, Age: {row[2]}\")\n",
    "except mysql.connector.Error as err:\n",
    "    print(f\"Error: {err}\")\n",
    "finally:\n",
    "    cursor.close()\n",
    "    connection.close()\n"
   ]
  },
  {
   "cell_type": "markdown",
   "id": "1ad8bd9a",
   "metadata": {},
   "source": [
    " this script:\n",
    "\n",
    "mysql.connector.connect(**db_config) establishes a connection to the MySQL server using the provided connection parameters.\n",
    "cursor = connection.cursor() creates a cursor object. The cursor is used to execute SQL queries and fetch results.\n",
    "cursor.execute(query) executes the SQL query specified by the query variable.\n",
    "cursor.fetchall() retrieves all the rows returned by the query.\n",
    "The fetched data is then displayed using a simple loop."
   ]
  },
  {
   "cell_type": "raw",
   "id": "e3f6060a",
   "metadata": {},
   "source": [
    "cursor() Method:\n",
    "\n",
    "The cursor() method creates a cursor object, which is a handle for interacting with the database.\n",
    "This cursor allows you to execute SQL queries, fetch results, and manage transactions.\n",
    "execute() Method:\n",
    "\n",
    "The execute() method is used to execute a SQL query.\n",
    "It takes a SQL query as its argument and sends it to the MySQL server for execution.\n",
    "After execution, the results (if any) can be fetched using methods like fetchall(), fetchone(), etc."
   ]
  },
  {
   "cell_type": "markdown",
   "id": "90ff846e",
   "metadata": {},
   "source": [
    "# Q7. Give the order of execution of SQL clauses in an SQL query."
   ]
  },
  {
   "cell_type": "markdown",
   "id": "86aac2e4",
   "metadata": {},
   "source": [
    "# Ans:"
   ]
  },
  {
   "cell_type": "markdown",
   "id": "13a3a454",
   "metadata": {},
   "source": [
    "The order of execution of SQL clauses in a SQL query generally follows a specific sequence."
   ]
  },
  {
   "cell_type": "markdown",
   "id": "6bf0dbcd",
   "metadata": {},
   "source": [
    "SELECT: The SELECT clause specifies the columns you want to retrieve from the database.\n",
    "\n",
    "FROM: The FROM clause indicates the table or tables from which to retrieve the data specified in the SELECT clause.\n",
    "\n",
    "WHERE: The WHERE clause is used to filter the rows returned by the FROM clause based on a specified condition.\n",
    "\n",
    "GROUP BY: The GROUP BY clause is used to group rows that have the same values in specified columns into summary rows.\n",
    "\n",
    "HAVING: The HAVING clause is used to filter the results of a GROUP BY clause based on a specified condition.\n",
    "\n",
    "ORDER BY: The ORDER BY clause is used to sort the result set by one or more columns, either in ascending (ASC) or descending (DESC) order.\n",
    "\n",
    "LIMIT/OFFSET: The LIMIT clause is used to restrict the number of rows returned by the query. The OFFSET clause, when used with LIMIT, is used to skip a specific number of rows before starting to return rows."
   ]
  },
  {
   "cell_type": "code",
   "execution_count": null,
   "id": "08a28a32",
   "metadata": {},
   "outputs": [],
   "source": []
  }
 ],
 "metadata": {
  "kernelspec": {
   "display_name": "Python 3 (ipykernel)",
   "language": "python",
   "name": "python3"
  },
  "language_info": {
   "codemirror_mode": {
    "name": "ipython",
    "version": 3
   },
   "file_extension": ".py",
   "mimetype": "text/x-python",
   "name": "python",
   "nbconvert_exporter": "python",
   "pygments_lexer": "ipython3",
   "version": "3.9.13"
  }
 },
 "nbformat": 4,
 "nbformat_minor": 5
}
